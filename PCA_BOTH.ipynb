{
  "cells": [
    {
      "cell_type": "markdown",
      "metadata": {
        "id": "view-in-github",
        "colab_type": "text"
      },
      "source": [
        "<a href=\"https://colab.research.google.com/github/GotAMinor/Training/blob/main/PCA_BOTH.ipynb\" target=\"_parent\"><img src=\"https://colab.research.google.com/assets/colab-badge.svg\" alt=\"Open In Colab\"/></a>"
      ]
    },
    {
      "cell_type": "markdown",
      "metadata": {
        "id": "l96XD2NrEUip"
      },
      "source": [
        "<!-- JPN -->\n",
        "# 主成分分析 (principal component analysis; PCA)\n",
        "\n",
        "※本演習資料の二次配布・再配布はお断り致します。\n"
      ]
    },
    {
      "cell_type": "markdown",
      "metadata": {
        "id": "w55f2qvkSwKD"
      },
      "source": [
        "<!-- ENG -->\n",
        "# Principal component analysis (PCA)\n",
        "\n",
        "※Distribution or redistribution of these exercise materials without the copyright holder's permission is not permitted.\n"
      ]
    },
    {
      "cell_type": "markdown",
      "metadata": {
        "id": "JvGBFukFrioq"
      },
      "source": [
        "<!-- JPN -->\n",
        "　データの各変数は、互いに相関がある。例えば、7月19日と言われれば夏の暑い時期を思い浮かべるだろうし、12月15日と言われれば寒い冬を思い浮かべるだろう。あるいは、天気が晴れていると言われれば暖かそうだし、雨が降っているなら寒そうである。雪と言われれば、気温が低いことは自明だろう。そんな、「日付」「天候」「気温」といった、**関連しあう複数の変数を、より少ない変数に削減（射影）しようとするのが主成分分析 (principal component analysis; PCA)** である。"
      ]
    },
    {
      "cell_type": "markdown",
      "metadata": {
        "id": "ANYzneLISwKF"
      },
      "source": [
        "<!-- ENG -->\n",
        "　Each variable in data is correlated with each other. For example, if you say July 19, you may think of the hot summer season, and if you say December 15, you may think of the cold winter. Or, if the weather is said to be sunny, it seems warm, and if it is raining, it seems cold. If it is snow, it will be obvious that the temperature is low. **Principal component analysis (PCA) is an attempt to reduce the number of related variables (by projecting multiple variables to a lower-dimensional space)**, such as \"date,\" \"weather,\" and \"temperature\"."
      ]
    },
    {
      "cell_type": "markdown",
      "metadata": {
        "id": "3lZVcZt2Xs5-"
      },
      "source": [
        "<!-- JPN -->\n",
        "　今回は、手書き文字データを利用して、次元削減するとどういう変数が生まれるのか、削減後から削減前をどの程度再現できるのか、そして主成分分析と線形代数の関係を以下の4つのセクションに分けて説明していく。"
      ]
    },
    {
      "cell_type": "markdown",
      "metadata": {
        "id": "d5egREZhXs5-"
      },
      "source": [
        "<!-- ENG -->\n",
        "　In this exercise, we are going to use handwritten character string data to explain what kind of variables are created by dimension reduction, to what extent the original data can be reproduced after dimension reduction, and the relationship between PCA and linear algebra in the following four sections."
      ]
    },
    {
      "cell_type": "markdown",
      "metadata": {
        "id": "5j5CT7A4rqTe"
      },
      "source": [
        "<!-- JPN -->\n",
        "- **1 | digitsデータセット**\n",
        "- **2 | 主成分分析のdigitsデータセットへの適用**\n",
        "- **3 | 主成分からの再構築**\n",
        "- **4 | 主成分分析における分散共分散行列の固有値**\n"
      ]
    },
    {
      "cell_type": "markdown",
      "metadata": {
        "id": "xHEFYzOBSwKG"
      },
      "source": [
        "<!-- ENG -->\n",
        "- **1 | Digits data set**\n",
        "- **2 | Applying PCA to the digits data set**\n",
        "- **3 | Reconstruction from principal components**\n",
        "- **4 | Eigenvalues ​​of the variance-covariance matrix in PCA**\n"
      ]
    },
    {
      "cell_type": "markdown",
      "metadata": {
        "id": "zv_jpkJu7PPe"
      },
      "source": [
        "<!-- JPN -->\n",
        "## 1 | digitsデータセット"
      ]
    },
    {
      "cell_type": "markdown",
      "metadata": {
        "id": "lpaEKLY2SwKM"
      },
      "source": [
        "<!-- ENG -->\n",
        "## 1 | Digits data set"
      ]
    },
    {
      "cell_type": "markdown",
      "metadata": {
        "id": "Z-v0OU3GXs6A"
      },
      "source": [
        "<!-- JPN -->\n",
        "　本演習では手書き文字認識のデータ digits を用いる。digits は手書きの数字（0〜9）1文字の白黒画像と、対応する正しい数字からなるデータセットである。"
      ]
    },
    {
      "cell_type": "markdown",
      "metadata": {
        "id": "t7C7mGLKXs6A"
      },
      "source": [
        "<!-- ENG -->\n",
        "　Here, we use digits data, which is handwritten character string recognition. Digits is a data set consisting of a black and white image of a single handwritten number (0-9) and the corresponding correct number."
      ]
    },
    {
      "cell_type": "code",
      "execution_count": 289,
      "metadata": {
        "id": "WIGknYHNCamq"
      },
      "outputs": [],
      "source": [
        "from sklearn import datasets\n",
        "import matplotlib.pyplot as plt\n",
        "\n",
        "\n",
        "d = datasets.load_digits()"
      ]
    },
    {
      "cell_type": "markdown",
      "metadata": {
        "id": "TJPb_-4JSuRr"
      },
      "source": [
        "<!-- JPN -->\n",
        "まずは、どのような情報が含まれているデータなのか見てみよう。\n",
        "\n",
        "`dir()`関数は、引数が持っているデータの一覧を取得することができる。"
      ]
    },
    {
      "cell_type": "markdown",
      "metadata": {
        "id": "7CtRmovbSwKP"
      },
      "source": [
        "<!-- ENG -->\n",
        "First, let's take a look at what kind of information the data contains.\n",
        "\n",
        "The `dir()` function can get a list of the data that its argument has."
      ]
    },
    {
      "cell_type": "code",
      "execution_count": 290,
      "metadata": {
        "id": "_kiQ0n2KQGAz",
        "colab": {
          "base_uri": "https://localhost:8080/"
        },
        "outputId": "64e0a176-206e-4f94-e080-b7d931e0c67b"
      },
      "outputs": [
        {
          "output_type": "stream",
          "name": "stdout",
          "text": [
            "['DESCR', 'data', 'feature_names', 'frame', 'images', 'target', 'target_names']\n"
          ]
        }
      ],
      "source": [
        "print(dir(d))"
      ]
    },
    {
      "cell_type": "markdown",
      "metadata": {
        "id": "I2lIFyssT6GX"
      },
      "source": [
        "<!-- JPN -->\n",
        "それぞれ、`DESCR` はデータセットの説明（description）、`data` はベクトル形式の画像データ、`images` は画像形式の画像データ、`target` は画像に対応する0〜9の数字、`target_names` はtargetの一覧 (`[0, 1, ..., 9]`) である。"
      ]
    },
    {
      "cell_type": "markdown",
      "metadata": {
        "id": "5LGiZkGkSwKQ"
      },
      "source": [
        "<!-- ENG -->\n",
        "`DESCR` is the description of the data set, `data` is the image data in vector format, `images` is the image data in image format, `target` is the number from 0-9 corresponding to the image, and `target_names` is the list of targets (`[0, 1, ..., 9]`)."
      ]
    },
    {
      "cell_type": "markdown",
      "metadata": {
        "id": "mpuLtoUUYoVg"
      },
      "source": [
        "<!-- JPN -->\n",
        "画像に相当する入力データ `d.data` は、各行が画像1枚に相当し、各列に画像の各ピクセルに対応する値を並べた行列である。今回の入力画像は8x8の解像度なので、列数は64である。"
      ]
    },
    {
      "cell_type": "markdown",
      "metadata": {
        "id": "_j_W8NC3SwKR"
      },
      "source": [
        "<!-- ENG -->\n",
        "The input data `d.data` which corresponds to an image is a matrix in which each row corresponds to one image and each column contains the values corresponding to each pixel of the image. The input image in this case has a resolution of 8x8, so the number of columns is 64."
      ]
    },
    {
      "cell_type": "code",
      "execution_count": 291,
      "metadata": {
        "id": "09Rwsmi2Cqn3",
        "scrolled": true,
        "colab": {
          "base_uri": "https://localhost:8080/"
        },
        "outputId": "c2f35be9-a55b-4b8c-9d70-9b1029520caa"
      },
      "outputs": [
        {
          "output_type": "stream",
          "name": "stdout",
          "text": [
            "(1797, 64)\n",
            "[[ 0.  0.  5. ...  0.  0.  0.]\n",
            " [ 0.  0.  0. ... 10.  0.  0.]\n",
            " [ 0.  0.  0. ... 16.  9.  0.]\n",
            " ...\n",
            " [ 0.  0.  1. ...  6.  0.  0.]\n",
            " [ 0.  0.  2. ... 12.  0.  0.]\n",
            " [ 0.  0. 10. ... 12.  1.  0.]]\n"
          ]
        }
      ],
      "source": [
        "data = d.data\n",
        "print(data.shape) # show the number of columns of data\n",
        "print(data) # show data"
      ]
    },
    {
      "cell_type": "markdown",
      "metadata": {
        "id": "RexhnCu_Y0Um"
      },
      "source": [
        "<!-- JPN -->\n",
        "画像に相当するデータ `images` はarrayのリストのような形式で保存されている。\n",
        "\n",
        "さて、画像と数字を対応させて表示してみよう。下のセルで、変数 `image_index` で指定する番号の画像を表示できる。"
      ]
    },
    {
      "cell_type": "markdown",
      "metadata": {
        "id": "qNQ8sUVhSwKR"
      },
      "source": [
        "<!-- ENG -->\n",
        "The data `images` that correspond to the images are stored in a format like an array list.\n",
        "\n",
        "Now, let's try to display the image and number correspondence. In the cell below, the image of the number specified by the variable `image_index` can be displayed."
      ]
    },
    {
      "cell_type": "code",
      "execution_count": 292,
      "metadata": {
        "id": "uVGhVhFfvJ0M",
        "colab": {
          "base_uri": "https://localhost:8080/",
          "height": 227
        },
        "outputId": "38246ce9-1523-4c64-fe1e-b736f06fc1a1"
      },
      "outputs": [
        {
          "output_type": "display_data",
          "data": {
            "text/plain": [
              "<Figure size 216x216 with 1 Axes>"
            ],
            "image/png": "[encoded data removed]"
          },
          "metadata": {
            "needs_background": "light"
          }
        }
      ],
      "source": [
        "# display digits image\n",
        "# change image_index and see each image with its label\n",
        "\n",
        "images = d.images # images (\"list of array\"-like)\n",
        "target = d.target # corresponding label numbers\n",
        "\n",
        "image_index = 72\n",
        "plt.figure(1, figsize=(3, 3))\n",
        "plt.imshow(images[image_index], cmap=plt.cm.gray_r)\n",
        "plt.title(f'An image of \"{target[image_index]}\"')\n",
        "plt.show()"
      ]
    },
    {
      "cell_type": "markdown",
      "metadata": {
        "id": "EddDx74ZbMsq"
      },
      "source": [
        "<!-- JPN -->\n",
        "さて、これら0〜9の数字について、\n",
        "* どの数字とどの数字は互いに似ていて、どの数字とどの数字は互いに似ていないだろうか。\n",
        "* これらの数字が64次元の空間上にどのように分布しているかを簡単に知ることはできるだろうか。\n",
        "* 8x8の画像のうち、データを特徴付けるのはどの部分だろうか。\n",
        "\n",
        "これらのことを知ることができる手法の一つが主成分分析である。"
      ]
    },
    {
      "cell_type": "markdown",
      "metadata": {
        "id": "6ohkSXGVSwKS"
      },
      "source": [
        "<!-- ENG -->\n",
        "Now, for these numbers 0 through 9,\n",
        "* Which numbers would be similar to each other and which numbers would not be similar to each other?\n",
        "* Can we easily find out how these numbers are distributed over a 64-dimensional space?\n",
        "* Which part of the 8x8 image characterizes the data?\n",
        "\n",
        "One of the methods that can tell us these features is principal component analysis (PCA)."
      ]
    },
    {
      "cell_type": "code",
      "source": [
        "print(images)"
      ],
      "metadata": {
        "colab": {
          "base_uri": "https://localhost:8080/"
        },
        "id": "OJYVmdhQI-hD",
        "outputId": "c86b5dfc-1abd-4496-b1b3-19872fb52dd8"
      },
      "execution_count": 293,
      "outputs": [
        {
          "output_type": "stream",
          "name": "stdout",
          "text": [
            "[[[ 0.  0.  5. ...  1.  0.  0.]\n",
            "  [ 0.  0. 13. ... 15.  5.  0.]\n",
            "  [ 0.  3. 15. ... 11.  8.  0.]\n",
            "  ...\n",
            "  [ 0.  4. 11. ... 12.  7.  0.]\n",
            "  [ 0.  2. 14. ... 12.  0.  0.]\n",
            "  [ 0.  0.  6. ...  0.  0.  0.]]\n",
            "\n",
            " [[ 0.  0.  0. ...  5.  0.  0.]\n",
            "  [ 0.  0.  0. ...  9.  0.  0.]\n",
            "  [ 0.  0.  3. ...  6.  0.  0.]\n",
            "  ...\n",
            "  [ 0.  0.  1. ...  6.  0.  0.]\n",
            "  [ 0.  0.  1. ...  6.  0.  0.]\n",
            "  [ 0.  0.  0. ... 10.  0.  0.]]\n",
            "\n",
            " [[ 0.  0.  0. ... 12.  0.  0.]\n",
            "  [ 0.  0.  3. ... 14.  0.  0.]\n",
            "  [ 0.  0.  8. ... 16.  0.  0.]\n",
            "  ...\n",
            "  [ 0.  9. 16. ...  0.  0.  0.]\n",
            "  [ 0.  3. 13. ... 11.  5.  0.]\n",
            "  [ 0.  0.  0. ... 16.  9.  0.]]\n",
            "\n",
            " ...\n",
            "\n",
            " [[ 0.  0.  1. ...  1.  0.  0.]\n",
            "  [ 0.  0. 13. ...  2.  1.  0.]\n",
            "  [ 0.  0. 16. ... 16.  5.  0.]\n",
            "  ...\n",
            "  [ 0.  0. 16. ... 15.  0.  0.]\n",
            "  [ 0.  0. 15. ... 16.  0.  0.]\n",
            "  [ 0.  0.  2. ...  6.  0.  0.]]\n",
            "\n",
            " [[ 0.  0.  2. ...  0.  0.  0.]\n",
            "  [ 0.  0. 14. ... 15.  1.  0.]\n",
            "  [ 0.  4. 16. ... 16.  7.  0.]\n",
            "  ...\n",
            "  [ 0.  0.  0. ... 16.  2.  0.]\n",
            "  [ 0.  0.  4. ... 16.  2.  0.]\n",
            "  [ 0.  0.  5. ... 12.  0.  0.]]\n",
            "\n",
            " [[ 0.  0. 10. ...  1.  0.  0.]\n",
            "  [ 0.  2. 16. ...  1.  0.  0.]\n",
            "  [ 0.  0. 15. ... 15.  0.  0.]\n",
            "  ...\n",
            "  [ 0.  4. 16. ... 16.  6.  0.]\n",
            "  [ 0.  8. 16. ... 16.  8.  0.]\n",
            "  [ 0.  1.  8. ... 12.  1.  0.]]]\n"
          ]
        }
      ]
    },
    {
      "cell_type": "markdown",
      "metadata": {
        "id": "JM1efQiIAofp"
      },
      "source": [
        "---"
      ]
    },
    {
      "cell_type": "markdown",
      "metadata": {
        "id": "tqA-swxfD-v0"
      },
      "source": [
        "<!-- JPN -->\n",
        "##### 課題 1\n",
        "　digitsデータセットについて、\n",
        "1. 画像の総枚数\n",
        "2. 件数が最も少ない数字（最も少ないものが複数ある場合、そのうちの最も値が小さい数字）\n",
        "\n",
        "をそれぞれ調べよ。\n",
        "\n",
        "（ヒント：1000件以上あるので目視で調べることは困難である。 `for` 文を用いて効率よく調べること）"
      ]
    },
    {
      "cell_type": "markdown",
      "metadata": {
        "id": "HBdot5kISwKT"
      },
      "source": [
        "<!-- ENG -->\n",
        "##### Exercise 1\n",
        "　Let’s look into each of the following regarding the digits data set:\n",
        "1. Total number of images\n",
        "2. The number which has the lowest data items (if there are multiple numbers with the lowest number, the number with the lowest value among them)\n",
        "\n",
        " \n",
        "\n",
        "(Hint: There are more than 1,000 items, so it is difficult to search them visually. Use a `for` statement to search more efficiently.)"
      ]
    },
    {
      "cell_type": "code",
      "source": [
        "print(images)"
      ],
      "metadata": {
        "colab": {
          "base_uri": "https://localhost:8080/"
        },
        "id": "0_hAEhXB77t5",
        "outputId": "038150db-d117-4436-a648-cd7acb62cd90"
      },
      "execution_count": 294,
      "outputs": [
        {
          "output_type": "stream",
          "name": "stdout",
          "text": [
            "[[[ 0.  0.  5. ...  1.  0.  0.]\n",
            "  [ 0.  0. 13. ... 15.  5.  0.]\n",
            "  [ 0.  3. 15. ... 11.  8.  0.]\n",
            "  ...\n",
            "  [ 0.  4. 11. ... 12.  7.  0.]\n",
            "  [ 0.  2. 14. ... 12.  0.  0.]\n",
            "  [ 0.  0.  6. ...  0.  0.  0.]]\n",
            "\n",
            " [[ 0.  0.  0. ...  5.  0.  0.]\n",
            "  [ 0.  0.  0. ...  9.  0.  0.]\n",
            "  [ 0.  0.  3. ...  6.  0.  0.]\n",
            "  ...\n",
            "  [ 0.  0.  1. ...  6.  0.  0.]\n",
            "  [ 0.  0.  1. ...  6.  0.  0.]\n",
            "  [ 0.  0.  0. ... 10.  0.  0.]]\n",
            "\n",
            " [[ 0.  0.  0. ... 12.  0.  0.]\n",
            "  [ 0.  0.  3. ... 14.  0.  0.]\n",
            "  [ 0.  0.  8. ... 16.  0.  0.]\n",
            "  ...\n",
            "  [ 0.  9. 16. ...  0.  0.  0.]\n",
            "  [ 0.  3. 13. ... 11.  5.  0.]\n",
            "  [ 0.  0.  0. ... 16.  9.  0.]]\n",
            "\n",
            " ...\n",
            "\n",
            " [[ 0.  0.  1. ...  1.  0.  0.]\n",
            "  [ 0.  0. 13. ...  2.  1.  0.]\n",
            "  [ 0.  0. 16. ... 16.  5.  0.]\n",
            "  ...\n",
            "  [ 0.  0. 16. ... 15.  0.  0.]\n",
            "  [ 0.  0. 15. ... 16.  0.  0.]\n",
            "  [ 0.  0.  2. ...  6.  0.  0.]]\n",
            "\n",
            " [[ 0.  0.  2. ...  0.  0.  0.]\n",
            "  [ 0.  0. 14. ... 15.  1.  0.]\n",
            "  [ 0.  4. 16. ... 16.  7.  0.]\n",
            "  ...\n",
            "  [ 0.  0.  0. ... 16.  2.  0.]\n",
            "  [ 0.  0.  4. ... 16.  2.  0.]\n",
            "  [ 0.  0.  5. ... 12.  0.  0.]]\n",
            "\n",
            " [[ 0.  0. 10. ...  1.  0.  0.]\n",
            "  [ 0.  2. 16. ...  1.  0.  0.]\n",
            "  [ 0.  0. 15. ... 15.  0.  0.]\n",
            "  ...\n",
            "  [ 0.  4. 16. ... 16.  6.  0.]\n",
            "  [ 0.  8. 16. ... 16.  8.  0.]\n",
            "  [ 0.  1.  8. ... 12.  1.  0.]]]\n"
          ]
        }
      ]
    },
    {
      "cell_type": "code",
      "source": [
        "print(len(d['images']))\n",
        "import numpy as np\n",
        "data_min = []\n",
        "for i in d['data']:\n",
        "  data_min.append(min(i))\n",
        "uni,num = np.unique(d['data'],return_counts = True)\n",
        "print(uni,num)\n",
        "print(min(num))\n",
        "print(np.where(num == min(num)))"
      ],
      "metadata": {
        "colab": {
          "base_uri": "https://localhost:8080/"
        },
        "id": "SNKxEyff5-OJ",
        "outputId": "4abd2de4-72cb-466b-8a3d-c47fe69b0dcb"
      },
      "execution_count": 295,
      "outputs": [
        {
          "output_type": "stream",
          "name": "stdout",
          "text": [
            "1797\n",
            "[ 0.  1.  2.  3.  4.  5.  6.  7.  8.  9. 10. 11. 12. 13. 14. 15. 16.] [56272  4095  3296  2944  3261  2803  2559  2627  3464  2585  2711  2845\n",
            "  3668  3509  3609  4304 10456]\n",
            "2559\n",
            "(array([6]),)\n"
          ]
        }
      ]
    },
    {
      "cell_type": "markdown",
      "metadata": {
        "id": "kY-MYgcsAr5v"
      },
      "source": [
        "---"
      ]
    },
    {
      "cell_type": "markdown",
      "metadata": {
        "id": "uVOLpa18_e14"
      },
      "source": [
        "<!-- JPN -->\n",
        "## 2 | 主成分分析のdigitsデータセットへの適用"
      ]
    },
    {
      "cell_type": "markdown",
      "metadata": {
        "id": "IzIgUHWlSwKT"
      },
      "source": [
        "<!-- ENG -->\n",
        "## 2 | Applying PCA to the digits data set"
      ]
    },
    {
      "cell_type": "markdown",
      "metadata": {
        "id": "Kfc7HT0GXs6F"
      },
      "source": [
        "<!-- JPN -->\n",
        "### 2.1 | 主成分分析の実行と主成分の確認"
      ]
    },
    {
      "cell_type": "markdown",
      "metadata": {
        "id": "zkOcHfd5Xs6F"
      },
      "source": [
        "<!-- ENG -->\n",
        "### 2.1 | Executing PCA and confirming principal components"
      ]
    },
    {
      "cell_type": "markdown",
      "metadata": {
        "id": "Fw-r3fL7Xs6F"
      },
      "source": [
        "<!-- JPN -->\n",
        "　主成分分析 (PCA) は可視化や次元削減などに用いられる教師なし学習手法の一つで、\n",
        "データセットのばらつきの情報を保ってデータを低次元の空間に射影することができる。\n",
        "まず、主成分分析を用いてデータを2次元に射影し、どの数字が空間上のどこに対応するか見てみよう。"
      ]
    },
    {
      "cell_type": "markdown",
      "metadata": {
        "id": "RkF8F2ftXs6F"
      },
      "source": [
        "<!-- ENG -->\n",
        "　Principal component analysis (PCA) is one of the unsupervised learning methods used in visualization and dimension reduction, which can project data into a low-dimensional space while preserving information about the variability of the data set.\n",
        "\n",
        "First, let's use PCA to project the data into two dimensions and see which numbers correspond to where in space."
      ]
    },
    {
      "cell_type": "code",
      "execution_count": 296,
      "metadata": {
        "id": "vDkoVGBxW5mH"
      },
      "outputs": [],
      "source": [
        "# prepare PCA\n",
        "from sklearn.decomposition import PCA\n",
        "\n",
        "pca = PCA(n_components=2) # 2 components will be used\n",
        "pca.fit(data) # obtain principal component\n",
        "images_map = pca.transform(data) # transform input data using PCA"
      ]
    },
    {
      "cell_type": "code",
      "execution_count": 297,
      "metadata": {
        "id": "MtY_UfbqCqn8",
        "scrolled": true,
        "colab": {
          "base_uri": "https://localhost:8080/",
          "height": 334
        },
        "outputId": "5ac8307a-93af-420b-fcfa-5853d818ecca"
      },
      "outputs": [
        {
          "output_type": "display_data",
          "data": {
            "text/plain": [
              "<Figure size 720x360 with 1 Axes>"
            ],
            "image/png": "[encoded data removed]"
          },
          "metadata": {
            "needs_background": "light"
          }
        }
      ],
      "source": [
        "# scatter plot of PCA\n",
        "import matplotlib.pyplot as plt\n",
        "\n",
        "plt.figure(figsize=(10,5))\n",
        "n_labels = 10\n",
        "\n",
        "# set color palette for plot\n",
        "color = [plt.cm.nipy_spectral(i/n_labels, 1) for i in range(n_labels)] \n",
        "\n",
        "# plot by each label\n",
        "for i in range(n_labels):\n",
        "  plt.scatter(images_map[target==i, 0], images_map[target==i, 1], \n",
        "              color=color[i], marker=f\"${i}$\")\n",
        "\n",
        "plt.xlabel(\"PC1\")\n",
        "plt.ylabel(\"PC2\")\n",
        "plt.show()"
      ]
    },
    {
      "cell_type": "markdown",
      "metadata": {
        "id": "_KorpoMOZw8Z"
      },
      "source": [
        "<!-- JPN -->\n",
        "正しく実行されていれば、最初の二つの主成分の値に沿って各数字が出力されているはずである。\n",
        "\n",
        "上の図からどのようなことが言えるだろうか。例えば、0や4は他の数字と比較的離れた分布をしていること、5, 8, 9が近い位置に分布していることから、文字の類似関係、すなわち0と4は大きく異なるが、5, 8, 9は互いに似ている、ことなどが見て取れる。\n",
        "\n",
        "この例では、64次元のデータを2次元に落とし込むことによって、データの分布をある程度可視化することができている。一方、数字間の重なりが大きく、2次元だけでは画像の情報を十分表現できていないこともわかる。"
      ]
    },
    {
      "cell_type": "markdown",
      "metadata": {
        "id": "nf14RN7PSwKU"
      },
      "source": [
        "<!-- ENG -->\n",
        "If it has executed correctly, each number should be output along the values of the first two principal components.\n",
        "\n",
        "What can we say from the above diagram? For example, we can see that 0 and 4 are distributed relatively far from other numbers, and that 5, 8, and 9 are distributed close to each other. It means that the shape of 0 and 4 are quite different from each other while that of 5, 8, and 9 are more similar to each other.\n",
        "\n",
        "In this example, the distribution of the data can be visualized to some extent by reducing the 64 dimensional data to two dimensions. On the other hand, there is a large overlap between the numbers, indicating that the information in the image cannot be adequately represented in two dimensions alone."
      ]
    },
    {
      "cell_type": "markdown",
      "metadata": {
        "id": "JWTR24_y_Lby"
      },
      "source": [
        "<!-- JPN -->\n",
        "　また、主成分分析では、各主成分（固有ベクトル）の値を見ることで、それぞれの主成分が主にどの列から構成されているか確認することができる。\n",
        "\n",
        "上位3つの主成分について、各主成分の内訳を見てみよう。"
      ]
    },
    {
      "cell_type": "markdown",
      "metadata": {
        "id": "ydTKOsimSwKU"
      },
      "source": [
        "<!-- ENG -->\n",
        "　Also, in PCA, by looking at the value of each principal component (eigenvector), it is possible to check which columns each principal component is mainly composed of.\n",
        "\n",
        "Let's take a look at the breakdown of each of the top three principal components."
      ]
    },
    {
      "cell_type": "code",
      "execution_count": 299,
      "metadata": {
        "id": "ryaHtUOq_4QK",
        "colab": {
          "base_uri": "https://localhost:8080/"
        },
        "outputId": "e0215329-d2cd-4901-87db-6e75db9c096a"
      },
      "outputs": [
        {
          "output_type": "stream",
          "name": "stdout",
          "text": [
            "               0         1         2         3         4         5         6   \\\n",
            "PC1 -5.076225e-18 -0.017309 -0.223429 -0.135913 -0.033032 -0.096634 -0.008329   \n",
            "PC2 -2.623646e-18 -0.010106 -0.049085 -0.009433 -0.053602 -0.117755 -0.062128   \n",
            "PC3  1.401431e-18  0.018342  0.126476  0.132155 -0.134016 -0.264939 -0.116644   \n",
            "\n",
            "           7         8         9   ...        54        55        56  \\\n",
            "PC1  0.002269 -0.000321 -0.119309  ... -0.063288  0.000962  0.000010   \n",
            "PC2 -0.007936 -0.000163 -0.021017  ...  0.148776  0.000542 -0.000033   \n",
            "PC3 -0.016842  0.000394  0.079437  ...  0.222787  0.021862 -0.000014   \n",
            "\n",
            "           57        58        59        60        61        62        63  \n",
            "PC1 -0.014079 -0.235675 -0.141226 -0.009160 -0.089418 -0.036598 -0.011468  \n",
            "PC2 -0.010079 -0.070272  0.017111  0.194296  0.176697  0.019455 -0.006697  \n",
            "PC3  0.017583  0.123158  0.098353  0.138485  0.232084  0.167027  0.034804  \n",
            "\n",
            "[3 rows x 64 columns]\n"
          ]
        }
      ],
      "source": [
        "import pandas as pd\n",
        "\n",
        "pca = PCA(n_components=3).fit(data) # PCA, use 3 components\n",
        "components = pca.components_ # get components from PCA result\n",
        "\n",
        "indexes = [\"PC1\", \"PC2\", \"PC3\"]\n",
        "print(pd.DataFrame(components, index=indexes)) # print shaped result"
      ]
    },
    {
      "cell_type": "markdown",
      "metadata": {
        "id": "EyKumyCACqoJ"
      },
      "source": [
        "<!-- JPN -->\n",
        "　これでは全体の様子がよくわからないので、固有ベクトルを画像と同じ形式に直し、値の大小を色で表して可視化してみよう。"
      ]
    },
    {
      "cell_type": "markdown",
      "metadata": {
        "id": "yTjBtU7tSwKV"
      },
      "source": [
        "<!-- ENG -->\n",
        "　Since this doesn't give us a clear picture of everything, let's visualize it by reformatting the eigenvectors into the same format as the image and using colors to indicate the size of the values."
      ]
    },
    {
      "cell_type": "code",
      "execution_count": 301,
      "metadata": {
        "id": "c3SfyBJYCqoK",
        "scrolled": true,
        "colab": {
          "base_uri": "https://localhost:8080/",
          "height": 313
        },
        "outputId": "2772262b-dccb-46e9-c3db-2432c814d521"
      },
      "outputs": [
        {
          "output_type": "display_data",
          "data": {
            "text/plain": [
              "<Figure size 1080x360 with 6 Axes>"
            ],
            "image/png": "[encoded data removed]"
          },
          "metadata": {
            "needs_background": "light"
          }
        }
      ],
      "source": [
        "# show components on image\n",
        "\n",
        "import numpy as np\n",
        "fig = plt.figure(figsize=(15, 5))\n",
        "for i in range(3): # for each component:\n",
        "  \n",
        "  plt.subplot(1, 3, i+1) # Draw a diagram by dividing it into three parts. When i=0, the leftmost (i+1 = 1st).\n",
        "  components_reshape = np.reshape(components[i], images[0].shape) # 1D vector -> 2D image-like format\n",
        "\n",
        "  im = plt.imshow(components_reshape, cmap=plt.cm.jet)\n",
        "  im.set_clim(-0.3,0.3) # set color range\n",
        "  plt.title(f\"principal component of PC{i+1}\")\n",
        "\n",
        "  plt.colorbar()\n",
        "\n",
        "plt.show()\n"
      ]
    },
    {
      "cell_type": "code",
      "source": [
        "print(np.sort(np.argsort(np.abs(components[0]))[-10:]))\n",
        "print(np.sort(np.argsort(np.abs(components[1]))[-10:]))\n",
        "print(np.sort(np.argsort(np.abs(components[2]))[-10:]))"
      ],
      "metadata": {
        "colab": {
          "base_uri": "https://localhost:8080/"
        },
        "id": "fMdNWsPZFoUt",
        "outputId": "3e775d77-ba1d-4fd2-a987-e5d23bb31731"
      },
      "execution_count": 362,
      "outputs": [
        {
          "output_type": "stream",
          "name": "stdout",
          "text": [
            "[ 2 10 13 19 26 34 42 43 44 58]\n",
            "[18 20 28 35 36 43 44 45 46 53]\n",
            "[ 5 13 21 29 37 43 50 51 54 61]\n"
          ]
        }
      ]
    },
    {
      "cell_type": "markdown",
      "metadata": {
        "id": "TCGwI23vNGuG"
      },
      "source": [
        "<!-- JPN -->\n",
        "　ここで、固有ベクトルの各値の**符号の正負ではなく**、値の**絶対値**が大きい説明変数がデータの分散をより表現しているといえることに注意する必要がある。"
      ]
    },
    {
      "cell_type": "markdown",
      "metadata": {
        "id": "vw_nLcMzSwKW"
      },
      "source": [
        "<!-- ENG -->\n",
        "　Here, it should be noted that the explanatory variables with larger **absolute values** can be said to be more expressive of the variance of the data, **rather than the positive or negative sign** of each value of the eigenvector."
      ]
    },
    {
      "cell_type": "markdown",
      "metadata": {
        "id": "vML4KYI5B8se"
      },
      "source": [
        "<!-- JPN -->\n",
        "　各主成分の寄与率 （explained variance ratio） は、元のデータの分散（$=$分散共分散行列の固有値の合計）のうちどれだけの割合をその主成分（に対応する固有値）が持っているかに相当する。実際に上位5つの主成分を用いて寄与率を見てみよう。"
      ]
    },
    {
      "cell_type": "markdown",
      "metadata": {
        "id": "ZbHxFS9WSwKW"
      },
      "source": [
        "<!-- ENG -->\n",
        "　The explained variance ratio of each principal component corresponds to how much of the variance of the original data (i.e., the sum of the eigenvalues of the covariance matrix) the principal component (and its corresponding eigenvalue) has. Let's actually look at the explained variance ratio using the top five principal components."
      ]
    },
    {
      "cell_type": "code",
      "execution_count": 324,
      "metadata": {
        "id": "ed7sgUqaBw_o",
        "colab": {
          "base_uri": "https://localhost:8080/",
          "height": 265
        },
        "outputId": "946c02b2-1d47-4469-eeca-fce946ff3a33"
      },
      "outputs": [
        {
          "output_type": "display_data",
          "data": {
            "text/plain": [
              "<Figure size 432x288 with 1 Axes>"
            ],
            "image/png": "[encoded data removed]"
          },
          "metadata": {
            "needs_background": "light"
          }
        }
      ],
      "source": [
        "n_components = 5\n",
        "fig = plt.figure(figsize=(6,4))\n",
        "\n",
        "pca = PCA(n_components=n_components).fit(data) # PCA, use 5 components\n",
        "explained_variance = pca.explained_variance_ratio_ # explained ratios\n",
        "indexes = [f\"PC{i+1}\" for i in range(len(explained_variance))]\n",
        "plt.bar(np.arange(len(explained_variance)), explained_variance,\n",
        "        tick_label=indexes)\n",
        "plt.ylabel(\"explained variance ratio\")\n",
        "plt.show()"
      ]
    },
    {
      "cell_type": "markdown",
      "metadata": {
        "id": "YyJTCzLMzgm8"
      },
      "source": [
        "<!-- JPN -->\n",
        "同様に、累積の寄与率は以下のようになる。"
      ]
    },
    {
      "cell_type": "markdown",
      "metadata": {
        "id": "5hm3f7UWSwKW"
      },
      "source": [
        "<!-- ENG -->\n",
        "Similarly, the cumulative explained variance ratio is as follows."
      ]
    },
    {
      "cell_type": "code",
      "execution_count": 325,
      "metadata": {
        "id": "uU-mprWmvXyO",
        "colab": {
          "base_uri": "https://localhost:8080/",
          "height": 269
        },
        "outputId": "abe592d5-3a92-41f6-e792-cf49175a4407"
      },
      "outputs": [
        {
          "output_type": "display_data",
          "data": {
            "text/plain": [
              "<Figure size 432x288 with 1 Axes>"
            ],
            "image/png": "[encoded data removed]"
          },
          "metadata": {
            "needs_background": "light"
          }
        }
      ],
      "source": [
        "fig = plt.figure(figsize=(6,4))\n",
        "cumulative_explained_variance = np.cumsum(explained_variance)\n",
        "\n",
        "plt.plot(np.arange(len(cumulative_explained_variance)), \n",
        "         cumulative_explained_variance, marker=\"o\")\n",
        "plt.xticks(range(len(indexes)), indexes)\n",
        "plt.ylim(0, 1)\n",
        "plt.ylabel(\"cumulative explained variance ratio\")\n",
        "plt.show()"
      ]
    },
    {
      "cell_type": "markdown",
      "metadata": {
        "id": "O0b_yoWqvBNn"
      },
      "source": [
        "<!-- JPN -->\n",
        "主成分分析では固有値を大きい順に用いるので、寄与率は徐々に減少していく。\n",
        "\n",
        "すべての主成分の寄与率の合計は1になるので、累積の寄与率をいくつの主成分を用いるかの基準として用いることができる。この場合、累積の寄与率の目安として0.7や0.8が用いられることがある。"
      ]
    },
    {
      "cell_type": "markdown",
      "metadata": {
        "id": "1_czrpnPSwKX"
      },
      "source": [
        "<!-- ENG -->\n",
        "In PCA, eigenvalues are used in order of increasing value, so the explained variance ratio gradually decreases.\n",
        " \n",
        "Since the explained variance ratio total of all principal components is 1, the cumulative explained variance ratio can be used as a criterion to determine how many principal components to use. In this case, 0.7 or 0.8 is sometimes used as an approximate estimate of the cumulative explained variance ratio."
      ]
    },
    {
      "cell_type": "markdown",
      "metadata": {
        "id": "XvnqdTyyXs6K"
      },
      "source": [
        "<!-- BOTH -->\n",
        "-----"
      ]
    },
    {
      "cell_type": "markdown",
      "metadata": {
        "id": "IOKxDUXQDByq"
      },
      "source": [
        "<!-- JPN -->\n",
        "##### 課題 2\n",
        "　上の主成分分析の結果から、digitsデータセットの画像はどのような特徴があると言えるだろうか。複数の主成分について別々に考察せよ。また、3つの主成分でdigitsデータセットを表現することは十分だろうか。"
      ]
    },
    {
      "cell_type": "markdown",
      "metadata": {
        "id": "6oRWIErQSwKX"
      },
      "source": [
        "<!-- ENG -->\n",
        "##### Exercise 2\n",
        "　Based on the results of the PCA above, what characteristics can you say about the images in the digits data set? Discuss several principal components separately.\n",
        "Also, is it sufficient to represent the digits data set with three principal components?"
      ]
    },
    {
      "cell_type": "markdown",
      "metadata": {
        "id": "fp-mD59LDctx"
      },
      "source": [
        "---"
      ]
    },
    {
      "cell_type": "markdown",
      "metadata": {
        "id": "g1yMkMOu0tke"
      },
      "source": [
        "<!-- JPN -->\n",
        "##### 課題 3\n",
        "　主成分分析を行う際には、中心化と言って、まず各変数の平均が0になるように前処理する（**補足資料 ※1**）。例えば今回の画像のケースの場合、一番左上の画素 (pixel) の値について、データセット内での平均を0にするような操作である。\n",
        "\n",
        "　scikit-learnの `PCA()` では中心化を自動でやってくれているのだが、その具体的な処理について知っておこう。下のコードは入力されたデータセット（データの集合）に対して中心化を行う関数 `centering(X)` である。これを用いて `d.data` を中心化せよ。\n",
        "ただし、レポートには最初の画像について、中心化後の値のうち最も大きい値を、小数第三位を四捨五入して答えること。\n"
      ]
    },
    {
      "cell_type": "markdown",
      "metadata": {
        "id": "DmeydcnESwKX"
      },
      "source": [
        "<!-- ENG -->\n",
        "##### Exercise 3\n",
        "　When conducting PCA, pre-processing is performed so that the mean of each variable becomes zero, called centering (**Supplementary Material S1**). For example, in the case of this image, it is an operation that sets the average value of the top left pixel to 0 in the data set.\n",
        "　`PCA()` in scikit-learn does the centering automatically, but let's get to know the specific process. The code below shows the function `centering(X)` that performs centering on the input data set (set of data). Use this to center the `d.data`.\n",
        "Note that the report should contain the largest value of the first image after centering, rounded to the two decimal place.\n"
      ]
    },
    {
      "cell_type": "code",
      "source": [
        "data = d.data\n",
        "print(data[0])\n",
        "data.shape[0]"
      ],
      "metadata": {
        "colab": {
          "base_uri": "https://localhost:8080/"
        },
        "id": "2va6kjl5OqrC",
        "outputId": "e5190c54-61bd-4f38-ea85-56a3076a333a"
      },
      "execution_count": 305,
      "outputs": [
        {
          "output_type": "stream",
          "name": "stdout",
          "text": [
            "[ 0.  0.  5. 13.  9.  1.  0.  0.  0.  0. 13. 15. 10. 15.  5.  0.  0.  3.\n",
            " 15.  2.  0. 11.  8.  0.  0.  4. 12.  0.  0.  8.  8.  0.  0.  5.  8.  0.\n",
            "  0.  9.  8.  0.  0.  4. 11.  0.  1. 12.  7.  0.  0.  2. 14.  5. 10. 12.\n",
            "  0.  0.  0.  0.  6. 13. 10.  0.  0.  0.]\n"
          ]
        },
        {
          "output_type": "execute_result",
          "data": {
            "text/plain": [
              "1797"
            ]
          },
          "metadata": {},
          "execution_count": 305
        }
      ]
    },
    {
      "cell_type": "code",
      "execution_count": 306,
      "metadata": {
        "id": "qvh3JZxV7EYj",
        "colab": {
          "base_uri": "https://localhost:8080/"
        },
        "outputId": "59e451c5-85a1-4e84-8a80-746789046df5"
      },
      "outputs": [
        {
          "output_type": "execute_result",
          "data": {
            "text/plain": [
              "10.40625"
            ]
          },
          "metadata": {},
          "execution_count": 306
        }
      ],
      "source": [
        "def centering(X):\n",
        "  Y = X.copy()\n",
        "  for i in range(X.shape[0]):\n",
        "    Y[i] = X[i]- np.mean(X[i])\n",
        "  return Y\n",
        "data_cen = centering(data)\n",
        "max(data_cen[0])"
      ]
    },
    {
      "cell_type": "markdown",
      "metadata": {
        "id": "Pfi02It2Xs6K"
      },
      "source": [
        "<!-- BOTH -->\n",
        "-----"
      ]
    },
    {
      "cell_type": "markdown",
      "metadata": {
        "id": "Q27bakc4Xs6K"
      },
      "source": [
        "<!-- JPN -->\n",
        "### 2.2 | 主成分負荷による「変数ごとの」寄与の評価"
      ]
    },
    {
      "cell_type": "markdown",
      "metadata": {
        "id": "3D3dqjZuXs6K"
      },
      "source": [
        "<!-- ENG -->\n",
        "### 2.2 | Principal component loadings to evaluate \"variable-by-variable\" contribution"
      ]
    },
    {
      "cell_type": "markdown",
      "metadata": {
        "id": "uCTpYt8fXs6K"
      },
      "source": [
        "<!-- JPN -->\n",
        "　主成分分析によって得られる主成分は複数の説明変数の組合せによって表現されている。前節では1つ1つの主成分がどのような要素を持つか？を可視化した。これをさらに掘り下げて、 **「第 N 主成分までに、どの変数が強く残され、どの変数は除外されているか」** を見ることのできる主成分負荷 (principal component loading) について学ぶ。\n",
        "\n",
        "　主成分負荷とは、固有ベクトルに対応する固有値の正の平方根を掛けて正規化したものであるが、\n",
        "特に、データが標準化（平均が0、分散が1）されているとき、主成分負荷は **各主成分における得点と各変数の相関係数** となる。\n",
        "\n"
      ]
    },
    {
      "cell_type": "markdown",
      "metadata": {
        "id": "RLQwAVcgXs6K"
      },
      "source": [
        "<!-- ENG -->\n",
        "Principal components obtained by PCA are represented by a combination of several explanatory variables. In the previous section, we visualized how each principal component is represented.\n",
        "To explore this further, learn about principal component loading, which allows you to see **\"which variables are kept strongly and which are removed up to the Nth principal component \"**.\n",
        "\n",
        "The principal component loadings are the eigenvectors normalized by multiplying by the positive square root of the eigenvalues corresponding to the eigenvectors. In particular, when the data are standardized (mean is 0 and variance is 1), the principal component loading is **the correlation coefficient** between the scores in each principal component and each variable.\n"
      ]
    },
    {
      "cell_type": "markdown",
      "metadata": {
        "id": "lhNflDcQXs6K"
      },
      "source": [
        "<!-- JPN -->\n",
        "標準化したデータに対してPCAを行い、主成分負荷をプロットしてみよう。"
      ]
    },
    {
      "cell_type": "markdown",
      "metadata": {
        "id": "gUT2dU46Xs6K"
      },
      "source": [
        "<!-- ENG -->\n",
        "Let's perform a PCA on the standardized data and plot the principal component loadings."
      ]
    },
    {
      "cell_type": "code",
      "execution_count": 327,
      "metadata": {
        "id": "McHNlqPwXs6K",
        "colab": {
          "base_uri": "https://localhost:8080/",
          "height": 324
        },
        "outputId": "76ec0865-b46c-4886-b6d6-1356efc17e9d"
      },
      "outputs": [
        {
          "output_type": "display_data",
          "data": {
            "text/plain": [
              "<Figure size 360x360 with 1 Axes>"
            ],
            "image/png": "[encoded data removed]"
          },
          "metadata": {
            "needs_background": "light"
          }
        }
      ],
      "source": [
        "from sklearn.preprocessing import StandardScaler\n",
        "\n",
        "ss = StandardScaler() # standardization\n",
        "s_data = ss.fit_transform(data)\n",
        "\n",
        "s_pca = PCA(n_components=2)\n",
        "s_pca.fit(s_data)\n",
        "load = s_pca.components_.T * np.sqrt(s_pca.explained_variance_)\n",
        "\n",
        "plt.figure(figsize=(5,5))\n",
        "plt.xlim(-1,1)\n",
        "plt.ylim(-1,1)\n",
        "\n",
        "plt.scatter(load[:,0],load[:,1])\n",
        "plt.plot(np.cos(np.arange(0,7,0.1)),np.sin(np.arange(0,7,0.1)))\n",
        "\n",
        "plt.show()"
      ]
    },
    {
      "cell_type": "markdown",
      "metadata": {
        "id": "gOPQnHh7Xs6K"
      },
      "source": [
        "<!-- JPN -->\n",
        "ここで、原点に近い点に対応する変数は主成分得点との相関が小さく（情報が失われている）、円に近い点であるほど主成分得点との相関が大きく（情報がより取り込まれている）なる。もっとも円に近い5つの点と、それに対応する変数のインデックスを見てみよう。"
      ]
    },
    {
      "cell_type": "markdown",
      "metadata": {
        "id": "4qdJZGn8Xs6K"
      },
      "source": [
        "<!-- ENG -->\n",
        "Here, the variables corresponding to the points closest to the origin have a smaller correlation with the principal component scores (information is lost), while the points closer to the circle have a larger correlation with the principal component scores (more information is captured). Let us look at the five points closest to the circle and the indices of the corresponding variables."
      ]
    },
    {
      "cell_type": "code",
      "execution_count": 309,
      "metadata": {
        "id": "zsaMCFA1Xs6L",
        "colab": {
          "base_uri": "https://localhost:8080/",
          "height": 341
        },
        "outputId": "fd36a2b9-6aa7-4c1d-c760-50f60429c5ed"
      },
      "outputs": [
        {
          "output_type": "stream",
          "name": "stdout",
          "text": [
            "[34 54 33 58  2]\n"
          ]
        },
        {
          "output_type": "display_data",
          "data": {
            "text/plain": [
              "<Figure size 360x360 with 1 Axes>"
            ],
            "image/png": "[encoded data removed]"
          },
          "metadata": {
            "needs_background": "light"
          }
        }
      ],
      "source": [
        "max_load_idx = np.argsort(np.linalg.norm(load,axis=1))[-5:]\n",
        "max_load = load[max_load_idx]\n",
        "print(max_load_idx)\n",
        "\n",
        "plt.figure(figsize=(5,5))\n",
        "plt.xlim(-1,1)\n",
        "plt.ylim(-1,1)\n",
        "\n",
        "plt.scatter(max_load[:,0],max_load[:,1])\n",
        "plt.plot(np.cos(np.arange(0,7,0.1)),np.sin(np.arange(0,7,0.1)))\n",
        "\n",
        "plt.show()"
      ]
    },
    {
      "cell_type": "markdown",
      "metadata": {
        "id": "VUDFU4bIXs6L"
      },
      "source": [
        "<!-- JPN -->\n",
        "主成分負荷の大きかった変数上位5つを実際の画像上に示すと、以下のようになる。"
      ]
    },
    {
      "cell_type": "markdown",
      "metadata": {
        "id": "vaL6f-iUXs6L"
      },
      "source": [
        "<!-- ENG -->\n",
        "Let's look at the top five variables with the highest principal component loadings on the actual image. "
      ]
    },
    {
      "cell_type": "markdown",
      "metadata": {
        "id": "w1f6ZE09Xs6L"
      },
      "source": [
        "<img src=https://i.imgur.com/6fIRudq.png width=200px>"
      ]
    },
    {
      "cell_type": "markdown",
      "metadata": {
        "id": "xoksfthOA18O"
      },
      "source": [
        "---"
      ]
    },
    {
      "cell_type": "markdown",
      "metadata": {
        "id": "-5RX4w2AahOe"
      },
      "source": [
        "<!-- JPN -->\n",
        "##### 課題 4（発展）\n",
        "\n",
        "上位5つだけではなく、全体としての傾向も確認してみよう。4つの主成分に対して同様の処理を行い、原点からの距離を用いて単一のヒートマップ上に表示し、数字のどのあたりの分散が大きい（色の濃さの変動が大きい）か論じよ。"
      ]
    },
    {
      "cell_type": "markdown",
      "metadata": {
        "id": "_ycggxUpeP91"
      },
      "source": [
        "<!-- ENG -->\n",
        "##### Exercise 4 (Advanced)\n",
        "\n",
        "Let's check not only the top five but also the overall trend. Perform the same process for the four principal components, display them on a heat map using their distance from the origin, and discuss which areas of the figures have greater variance (greater color intensity variations)."
      ]
    },
    {
      "cell_type": "code",
      "source": [
        "from sklearn.preprocessing import StandardScaler\n",
        "\n",
        "ss = StandardScaler() # standardization\n",
        "s_data = ss.fit_transform(data)\n",
        "\n",
        "s_pca = PCA(n_components=4)\n",
        "s_pca.fit(s_data)\n",
        "load = s_pca.components_.T * np.sqrt(s_pca.explained_variance_)\n",
        "\n",
        "max_load_idx = np.argsort(np.linalg.norm(load,axis=1))[-5:]\n",
        "max_load = load[max_load_idx]\n",
        "load_distance = np.linalg.norm(load,axis=1)\n",
        "\n",
        "print(max_load_idx)\n",
        "print(max_load)\n",
        "print(np.sort(np.linalg.norm(load,axis=1)))\n"
      ],
      "metadata": {
        "colab": {
          "base_uri": "https://localhost:8080/"
        },
        "id": "j_7Qj4SCWWOe",
        "outputId": "73c4d7c1-11a2-441e-b801-cc05cad6d496"
      },
      "execution_count": 310,
      "outputs": [
        {
          "output_type": "stream",
          "name": "stdout",
          "text": [
            "[33 61 10  2 58]\n",
            "[[ 0.64745588 -0.28428125 -0.05900149  0.37877289]\n",
            " [-0.27967921 -0.58608679 -0.05057733 -0.50270978]\n",
            " [-0.62102975  0.03503867 -0.39214661  0.3964902 ]\n",
            " [-0.77473808  0.14388994 -0.12894719  0.3109389 ]\n",
            " [-0.75843673  0.19663638 -0.11640242  0.32957374]]\n",
            "[0.00000000e+00 0.00000000e+00 1.56388135e-16 3.29915287e-02\n",
            " 7.22316700e-02 8.48810854e-02 9.33758535e-02 9.85720627e-02\n",
            " 1.60835301e-01 1.74756238e-01 2.36049175e-01 2.52864938e-01\n",
            " 3.41815653e-01 3.48812614e-01 3.94836818e-01 4.07841350e-01\n",
            " 4.08240796e-01 4.11914281e-01 4.16615240e-01 4.22858523e-01\n",
            " 4.65529919e-01 5.67315461e-01 5.77226189e-01 5.77963466e-01\n",
            " 5.86704052e-01 5.90051330e-01 6.02902033e-01 6.09592290e-01\n",
            " 6.17210966e-01 6.20918452e-01 6.22877252e-01 6.31671613e-01\n",
            " 6.41325379e-01 6.42543382e-01 6.46125060e-01 6.47163840e-01\n",
            " 6.51863041e-01 6.52171260e-01 6.56352590e-01 6.61145522e-01\n",
            " 6.64807042e-01 6.66065040e-01 6.77548351e-01 6.84657691e-01\n",
            " 6.92316948e-01 6.94236751e-01 6.96932615e-01 6.98149081e-01\n",
            " 7.02951610e-01 7.06267604e-01 7.09690008e-01 7.22128473e-01\n",
            " 7.22147332e-01 7.23629114e-01 7.51102650e-01 7.70617869e-01\n",
            " 7.72500437e-01 7.74240136e-01 7.87541372e-01 8.04341357e-01\n",
            " 8.22796065e-01 8.35397574e-01 8.56874428e-01 8.57939693e-01]\n"
          ]
        }
      ]
    },
    {
      "cell_type": "code",
      "source": [
        "fig = plt.figure(figsize=(20, 5))\n",
        "\n",
        "load_distance_reshape = np.reshape(load_distance, images[0].shape) # 1D vector -> 2D image-like format\n",
        "\n",
        "im = plt.imshow(load_distance_reshape, cmap=plt.cm.jet)\n",
        "im.set_clim(-1,1) # set color range\n",
        "\n",
        "plt.colorbar()"
      ],
      "metadata": {
        "colab": {
          "base_uri": "https://localhost:8080/",
          "height": 341
        },
        "id": "b4R17DekdJ0x",
        "outputId": "0c7a64a1-9261-4780-b491-21d9a67f2138"
      },
      "execution_count": 311,
      "outputs": [
        {
          "output_type": "execute_result",
          "data": {
            "text/plain": [
              "<matplotlib.colorbar.Colorbar at 0x7f767298fad0>"
            ]
          },
          "metadata": {},
          "execution_count": 311
        },
        {
          "output_type": "display_data",
          "data": {
            "text/plain": [
              "<Figure size 1440x360 with 2 Axes>"
            ],
            "image/png": "[encoded data removed]"
          },
          "metadata": {
            "needs_background": "light"
          }
        }
      ]
    },
    {
      "cell_type": "markdown",
      "metadata": {
        "id": "m1fpnJaoDfIu"
      },
      "source": [
        "---"
      ]
    },
    {
      "cell_type": "markdown",
      "metadata": {
        "id": "6-3GCaHa7mB5"
      },
      "source": [
        "<!-- JPN -->\n",
        "## 3 | 主成分からの再構築"
      ]
    },
    {
      "cell_type": "markdown",
      "metadata": {
        "id": "NIh3P3HZSwKY"
      },
      "source": [
        "<!-- ENG -->\n",
        "## 3 | Reconstructing from principal components"
      ]
    },
    {
      "cell_type": "markdown",
      "metadata": {
        "id": "UVSUPYSvXs6M"
      },
      "source": [
        "<!-- JPN -->\n",
        "　主成分分析を用いた次元削減における情報落ち (loss of information) について、より詳しく見てみよう。主成分分析を行った後、いくつかの主成分だけを残すことによって、元の行列をより小さい次元で近似することができる。このとき、元のデータの情報はどの程度残っているのだろうか。これは主成分分析で次元削減を行い、その結果に逆変換を行ってデータを元の形式に戻すことによって視覚的に確認することができる。\n"
      ]
    },
    {
      "cell_type": "markdown",
      "metadata": {
        "id": "ErIIOk-rXs6M"
      },
      "source": [
        "<!-- ENG -->\n",
        "　Let's take a closer look at the loss of information in dimension reduction using principal component analysis (PCA). After performing PCA, the original matrix can be approximated in a smaller dimension by keeping only a few principal components. At this point, how much of the original data information remains? This can be visually confirmed by performing dimension reduction with PCA and then performing an inversion on the results to return the data to its original format."
      ]
    },
    {
      "cell_type": "markdown",
      "metadata": {
        "id": "eMss61Xn8wxo"
      },
      "source": [
        "<!-- JPN -->\n",
        "　下のセル群を `n_components` を変えながら何度か実行することで、使用した次元数と復元後の関係を見ることができる。復元の精度が良いほど、より多くの情報が残っているといえる。\n",
        "\n",
        "　下のセル群のうち、上のセルが変換・逆変換を行う関数で、下の2セルがプロットする部分である。`n_components` で削減する次元数を、`image_index` で表示する画像を指定することができる。元の画像が64次元であるため、`n_components` には1以上64以下の値を指定すること。"
      ]
    },
    {
      "cell_type": "markdown",
      "metadata": {
        "id": "yauVSsRiSwKY"
      },
      "source": [
        "<!-- ENG -->\n",
        "　By running the group of cells below several times with different `n_components`, we can see the relationship between the number of dimensions used and the results after the restoration. The better the accuracy of the restoration is, the more information remains.\n",
        "\n",
        "　In the group of cells below, the top cell is the function that performs the transformation and inversion, and the bottom two cells are the part that performs plotting. The number of dimensions to be reduced can be specified by `n_components`, and the number of the images to be displayed can be specified by `image_index`. Since the original image is 64 dimensions, specify a value between 1 and 64 for `n_components`."
      ]
    },
    {
      "cell_type": "code",
      "execution_count": 312,
      "metadata": {
        "id": "rGamiVbc9Bnk"
      },
      "outputs": [],
      "source": [
        "def project_reconstruct(data, n_components):\n",
        "  pca = PCA(n_components=n_components)\n",
        "  pca.fit(data)\n",
        "  data_map = pca.transform(data) # projection\n",
        "  data_reconstructed = pca.inverse_transform(data_map) # reconstruction\n",
        "  sum_explained_variance_ratio = np.sum(pca.explained_variance_ratio_)\n",
        "\n",
        "  return data_reconstructed, sum_explained_variance_ratio"
      ]
    },
    {
      "cell_type": "code",
      "execution_count": 313,
      "metadata": {
        "id": "Zb2bfpl9A4aC",
        "colab": {
          "base_uri": "https://localhost:8080/"
        },
        "outputId": "70cb5ee1-d76d-4f75-f0a2-a94acf39d6dd"
      },
      "outputs": [
        {
          "output_type": "stream",
          "name": "stdout",
          "text": [
            "Cumulative explained variance ratio: 0.4030\n"
          ]
        }
      ],
      "source": [
        "data = datasets.load_digits().data\n",
        "# project and reconstruct of data by PCA\n",
        "n_components = 3 # the number of components to be used\n",
        "\n",
        "data_reconstructed, sum_explained_variance_ratio = \\\n",
        "  project_reconstruct(data, n_components)\n",
        "print(f\"Cumulative explained variance ratio: {sum_explained_variance_ratio:.4f}\")"
      ]
    },
    {
      "cell_type": "code",
      "execution_count": 314,
      "metadata": {
        "id": "DPxbxTILzhzn",
        "colab": {
          "base_uri": "https://localhost:8080/",
          "height": 318
        },
        "outputId": "028fff81-0e35-4ce4-b73c-7647e7c8e325"
      },
      "outputs": [
        {
          "output_type": "display_data",
          "data": {
            "text/plain": [
              "<Figure size 720x360 with 2 Axes>"
            ],
            "image/png": "[encoded data removed]"
          },
          "metadata": {
            "needs_background": "light"
          }
        }
      ],
      "source": [
        "# show above result\n",
        "image_index = 11 # the index of image to be shown\n",
        "image_reconstructed = np.reshape(data_reconstructed[image_index],\n",
        "                                 images[0].shape)\n",
        "\n",
        "fig = plt.figure(figsize=(10, 5))\n",
        "\n",
        "# show original image\n",
        "plt.subplot(1, 2, 1)\n",
        "plt.imshow(images[image_index], cmap=plt.cm.gray_r)\n",
        "plt.title(f'Original image. Label: \"{target[image_index]}\"')\n",
        "\n",
        "# show reconstructed image\n",
        "plt.subplot(1, 2, 2)\n",
        "plt.imshow(image_reconstructed, cmap=plt.cm.gray_r)\n",
        "plt.title(f\"Reconstructed from {n_components} principal components\")\n",
        "\n",
        "plt.show()"
      ]
    },
    {
      "cell_type": "code",
      "source": [],
      "metadata": {
        "id": "dYcRSxgYYVlD"
      },
      "execution_count": 314,
      "outputs": []
    },
    {
      "cell_type": "markdown",
      "metadata": {
        "id": "f6exKKXZ4J7I"
      },
      "source": [
        "<!-- JPN -->\n",
        "実行した結果から、残した次元数が多いほど復元の精度が良い、つまり情報が多く残っていることが見て取れるはずである。\n",
        "\n",
        "　このように、元々のデータが視覚的に捉えられる場合には、実際に復元してみることでも使用するべき主成分の数を判断することができる。"
      ]
    },
    {
      "cell_type": "markdown",
      "metadata": {
        "id": "QchwK8J1SwKZ"
      },
      "source": [
        "<!-- ENG -->\n",
        "From the execution result, it can be seen that the greater the number of dimensions left, the better the accuracy of restoration is, which means the more information remains.\n",
        "\n",
        "　In this way, if the original data can be captured visually, the number of principal components that should be used can be determined even by actually restoring the data."
      ]
    },
    {
      "cell_type": "markdown",
      "metadata": {
        "id": "wRiemmenDxNE"
      },
      "source": [
        "---"
      ]
    },
    {
      "cell_type": "markdown",
      "metadata": {
        "id": "nYZO0ToXCqoe"
      },
      "source": [
        "<!-- JPN -->\n",
        "## 4 | 主成分分析における分散共分散行列の固有値\n",
        "\n",
        "　主成分分析で用いる主成分およびその寄与は元のデータの分散共分散行列（単に共分散行列とも言う）の固有ベクトルおよび固有値から求めることができる。`PCA.fit`では「分散共分散行列の固有ベクトルおよび固有値を計算し、大きい順に並べ替えて答える」ことに相当する処理（**補足資料 ※2**）を行なっている。\n",
        "\n",
        "　ここではこの計算を**scikit-learnを通さず**行い、scikit-learnの主成分分析と同様の結果が得られることを確認する。"
      ]
    },
    {
      "cell_type": "markdown",
      "metadata": {
        "id": "Voyv9TkbSwKZ"
      },
      "source": [
        "<!-- ENG -->\n",
        "## 4 | Eigenvalues ​​of the variance-covariance matrix in PCA\n",
        "\n",
        "　The principal components and their explained variance ratio used in principal component analysis (PCA) can be obtained from the eigenvectors and eigenvalues of the variance-covariance matrix (also called simply the covariance matrix) of the original data. `PCA.fit` performs a process equivalent to \"calculate the eigenvectors and eigenvalues of the variance-covariance matrix, output them by sorting in order of magnitude\" (**Supplementary Material S2**).\n",
        "\n",
        "　In this section, we will perform this calculation **without going through scikit-learn** and confirm that the results are similar to PCA in scikit-learn."
      ]
    },
    {
      "cell_type": "code",
      "execution_count": 315,
      "metadata": {
        "id": "SFJt7lRi5ucB"
      },
      "outputs": [],
      "source": [
        "# The same function as that of Exercise 3\n",
        "def centering(X):\n",
        "  return X - np.mean(X, axis=0)"
      ]
    },
    {
      "cell_type": "code",
      "execution_count": 316,
      "metadata": {
        "id": "RjndoiFWCqoi"
      },
      "outputs": [],
      "source": [
        "# Calculate covariance matrix\n",
        "data_centered = centering(data)\n",
        "cov_matrix = np.cov(data_centered, rowvar=False)"
      ]
    },
    {
      "cell_type": "code",
      "execution_count": 317,
      "metadata": {
        "id": "KRrdUdDzCqol"
      },
      "outputs": [],
      "source": [
        "# Calculate eigenvalue/eigenvector of covariance matrix\n",
        "from numpy.linalg import eig\n",
        "eig_val, eig_vec = eig(cov_matrix)\n",
        "\n",
        "# Sort by eigenvector (descending)\n",
        "n_components = 3\n",
        "eig_index = np.argsort(eig_val)      # argsort arranges the index in ascending order by element\n",
        "eig_index = eig_index[::-1]          # Reverse the order with [::-1] to get the descending order\n",
        "eig_index = eig_index[:n_components] # Get only n_components index in descending order\n",
        "eig_val = eig_val[eig_index]         # Get eigenvalues in increasing order\n",
        "eig_vec = eig_vec.T[eig_index]       # Get the corresponding eigenvector"
      ]
    },
    {
      "cell_type": "code",
      "execution_count": 318,
      "metadata": {
        "id": "xW33ZU2wCqoo",
        "colab": {
          "base_uri": "https://localhost:8080/",
          "height": 313
        },
        "outputId": "585d6de4-6a11-4ade-e9da-d405f8d6d863"
      },
      "outputs": [
        {
          "output_type": "display_data",
          "data": {
            "text/plain": [
              "<Figure size 1080x360 with 6 Axes>"
            ],
            "image/png": "[encoded data removed]"
          },
          "metadata": {
            "needs_background": "light"
          }
        }
      ],
      "source": [
        "# show\n",
        "\n",
        "fig = plt.figure(figsize=(15, 5))\n",
        "for i in range(n_components):\n",
        "  \n",
        "  plt.subplot(1, n_components, i+1)\n",
        "  eig_vec_reshape = np.reshape(eig_vec[i], images[0].shape)\n",
        "\n",
        "  im = plt.imshow(eig_vec_reshape, cmap=plt.cm.jet)\n",
        "  im.set_clim(-0.3,0.3)\n",
        "  plt.title(f\"principal component of PC{i+1}\")\n",
        "  plt.colorbar()\n",
        "    \n",
        "plt.show()"
      ]
    },
    {
      "cell_type": "markdown",
      "metadata": {
        "id": "auvsC_s-C2YU"
      },
      "source": [
        "<!-- JPN -->\n",
        "　主成分（固有ベクトル）を見ることにより、scikit-learnの `PCA` と同様の結果になっていることが確認できる。\n",
        "なお、主成分の符号が反転している場合があるが、ベクトルの向きが反対になっているだけで表している意味は同じである。"
      ]
    },
    {
      "cell_type": "markdown",
      "metadata": {
        "id": "LRtxNC3QSwKa"
      },
      "source": [
        "<!-- ENG -->\n",
        "　By looking at the principal components (eigenvectors), we can confirm that the results are similar to `PCA` in scikit-learn.\n",
        "In some cases, the sign of the principal component is reversed, but the meaning is the same, just that the direction of the vector is opposite."
      ]
    },
    {
      "cell_type": "markdown",
      "metadata": {
        "id": "goFY4yhtD6km"
      },
      "source": [
        "---"
      ]
    },
    {
      "cell_type": "markdown",
      "metadata": {
        "id": "gNo0r7QRG_On"
      },
      "source": [
        "<!-- JPN -->\n",
        "##### 課題 5\n",
        "　固有ベクトルが等しいことを確認したので、固有値も等しくなっていることを確認しよう。\n",
        "`PCA()` で計算した固有値と直接計算した固有値が一致することを確認し、最も大きい固有値を小数点以下を四捨五入し整数で答えよ。\n",
        "ただし、`PCA()` で計算した結果の固有値は`pca.explained_variance_`で取得することができる。\n"
      ]
    },
    {
      "cell_type": "markdown",
      "metadata": {
        "id": "n2Xdb6_rSwKa"
      },
      "source": [
        "<!-- ENG -->\n",
        "##### Exercise 5\n",
        "　Now that we have confirmed that the eigenvectors are equal, let's make sure that the eigenvalues are also equal.\n",
        "Check that the eigenvalues calculated by `PCA()` and the eigenvalues calculated directly match, and answer the largest eigenvalue as an integer, rounded to the nearest whole number.\n",
        "Note that the eigenvalues of the results calculated by `PCA()` can be obtained by `pca.explained_variance_`.\n"
      ]
    },
    {
      "cell_type": "code",
      "source": [
        "pca = PCA(n_components=3)\n",
        "pca.fit(data_centered)"
      ],
      "metadata": {
        "colab": {
          "base_uri": "https://localhost:8080/"
        },
        "id": "65bvaHINkTdN",
        "outputId": "d86e81a9-c670-4fae-8969-9c0e4ddae0a8"
      },
      "execution_count": 335,
      "outputs": [
        {
          "output_type": "execute_result",
          "data": {
            "text/plain": [
              "PCA(n_components=3)"
            ]
          },
          "metadata": {},
          "execution_count": 335
        }
      ]
    },
    {
      "cell_type": "code",
      "source": [
        "components = pca.components_ # get components from PCA result\n",
        "indexes = [\"PC1\", \"PC2\", \"PC3\"]\n",
        "print(pd.DataFrame(components, index=indexes)) # print shaped result"
      ],
      "metadata": {
        "colab": {
          "base_uri": "https://localhost:8080/"
        },
        "id": "kwlWUJIio7qh",
        "outputId": "5a800daf-4d40-4a04-8fca-36d771340ef3"
      },
      "execution_count": 336,
      "outputs": [
        {
          "output_type": "stream",
          "name": "stdout",
          "text": [
            "               0         1         2         3         4         5         6   \\\n",
            "PC1  3.416335e-17 -0.017309 -0.223429 -0.135913 -0.033032 -0.096634 -0.008329   \n",
            "PC2 -1.191520e-17 -0.010106 -0.049085 -0.009433 -0.053602 -0.117755 -0.062128   \n",
            "PC3  5.630329e-17  0.018342  0.126476  0.132155 -0.134016 -0.264939 -0.116644   \n",
            "\n",
            "           7         8         9   ...        54        55        56  \\\n",
            "PC1  0.002269 -0.000321 -0.119309  ... -0.063288  0.000962  0.000010   \n",
            "PC2 -0.007936 -0.000163 -0.021017  ...  0.148776  0.000542 -0.000033   \n",
            "PC3 -0.016842  0.000394  0.079437  ...  0.222787  0.021862 -0.000014   \n",
            "\n",
            "           57        58        59        60        61        62        63  \n",
            "PC1 -0.014079 -0.235675 -0.141226 -0.009160 -0.089418 -0.036598 -0.011468  \n",
            "PC2 -0.010079 -0.070272  0.017111  0.194296  0.176697  0.019455 -0.006697  \n",
            "PC3  0.017583  0.123158  0.098353  0.138485  0.232084  0.167027  0.034804  \n",
            "\n",
            "[3 rows x 64 columns]\n"
          ]
        }
      ]
    },
    {
      "cell_type": "markdown",
      "metadata": {
        "id": "e_XDVWLwkk-D"
      },
      "source": [
        "<!-- BOTH -->\n",
        "-----"
      ]
    },
    {
      "cell_type": "markdown",
      "metadata": {
        "id": "zTVx-dArXs6O"
      },
      "source": [
        "<!-- JPN -->\n",
        "##### 課題 6\n",
        "データセット内の**先頭の画像**に対して**sciki-learnを通さずに**3次元の主成分得点を求め、小数第三位を四捨五入して答えよ。"
      ]
    },
    {
      "cell_type": "markdown",
      "metadata": {
        "id": "oBPUx767Xs6O"
      },
      "source": [
        "<!-- ENG -->\n",
        "##### Exercise 6\n",
        "Let's find the three principal component scores for the **first image** in the dataset **without scikit-learn**. Answer three values rounded to the two decimal place."
      ]
    },
    {
      "cell_type": "code",
      "source": [
        "data_centered = centering(data)\n",
        "print(components[0].dot(data_centered[0].T))\n",
        "print(components[0].dot(data[0].T))\n",
        "for i in range(3):\n",
        "  print(components[i].dot(data_centered[0].T))"
      ],
      "metadata": {
        "colab": {
          "base_uri": "https://localhost:8080/"
        },
        "id": "PT7mfcj9pDeY",
        "outputId": "571710f9-0a23-40ec-87b0-8208bbc013f6"
      },
      "execution_count": 337,
      "outputs": [
        {
          "output_type": "stream",
          "name": "stdout",
          "text": [
            "-1.2594664443969963\n",
            "-0.9286791904649139\n",
            "-1.2594664443969963\n",
            "21.27488352638105\n",
            "-9.463054416840404\n"
          ]
        }
      ]
    },
    {
      "cell_type": "code",
      "source": [
        "for i in range(3):\n",
        "  print(eig_vec[i].dot(data_centered[0].T))"
      ],
      "metadata": {
        "colab": {
          "base_uri": "https://localhost:8080/"
        },
        "id": "Ueuw8pXLlYno",
        "outputId": "f3abf62a-56fb-4aba-a1d2-8e4e134781f1"
      },
      "execution_count": 347,
      "outputs": [
        {
          "output_type": "stream",
          "name": "stdout",
          "text": [
            "1.259466450101331\n",
            "-21.274883480738396\n",
            "9.46305461760544\n"
          ]
        }
      ]
    },
    {
      "cell_type": "markdown",
      "metadata": {
        "id": "KaHJ8oruD8tT"
      },
      "source": [
        "---"
      ]
    },
    {
      "cell_type": "markdown",
      "metadata": {
        "id": "37DMY818jzZy"
      },
      "source": [
        "<!-- JPN -->\n",
        "## レポートフォーマット\n",
        "\n",
        "提出を行う際には以下のフォーマットを利用せよ。"
      ]
    },
    {
      "cell_type": "markdown",
      "metadata": {
        "id": "pTuy6MF4_qRU"
      },
      "source": [
        "<!-- ENG -->\n",
        "## Report format\n",
        "\n",
        "Use a format shown below when you submit your report.\n"
      ]
    },
    {
      "cell_type": "markdown",
      "metadata": {
        "id": "FVsnlFaNPZwk"
      },
      "source": [
        "https://docs.google.com/document/d/1lHmrKTV-KFaUIHjf14B7fKhRNqu0iUCDntyK2_9xJiA/edit?usp=sharing"
      ]
    },
    {
      "cell_type": "markdown",
      "metadata": {
        "id": "NBo-PepFEac6"
      },
      "source": [
        "<!-- BOTH -->\n",
        "-----"
      ]
    },
    {
      "cell_type": "markdown",
      "metadata": {
        "id": "tvVtUbX19JvF"
      },
      "source": [
        "<!-- JPN -->\n",
        "# 補足資料"
      ]
    },
    {
      "cell_type": "markdown",
      "metadata": {
        "id": "iynLH0fOSwKb"
      },
      "source": [
        "<!-- ENG -->\n",
        "# Supplementary Material"
      ]
    },
    {
      "cell_type": "markdown",
      "metadata": {
        "id": "tryKPIvno9JH"
      },
      "source": [
        "<!-- JPN -->\n",
        "### ※1 主成分分析の中心化について\n",
        "\n",
        "　主成分分析では中心化が行われるが、正規化（平均を 0、分散を 1 にする）ではないのか？と思われる人もいるだろう。これは良い発想で、分散を 1 にする方が良い場合と良くない場合がある。[scikit-learnのPCAのドキュメント](https://scikit-learn.org/stable/modules/generated/sklearn.decomposition.PCA.html)によれば、（データの大きさを揃えることで）変換されたデータの分散の大きさの情報が失われるが、機械学習の入力として用いる場合は予測精度が向上する可能性がある。\n"
      ]
    },
    {
      "cell_type": "markdown",
      "metadata": {
        "id": "2atvZGpQSwKb"
      },
      "source": [
        "<!-- ENG -->\n",
        "### S1 PCA centering\n",
        "\n",
        "　In PCA, centering is executed, but isn't it normalization (making the mean zero and the variance one)? Some people may think so. This is a good idea, and there are cases where setting the variance to 1 is okay and not okay. According to [scikit-learn's PCA documentation](https://scikit-learn.org/stable/modules/generated/sklearn.decomposition.PCA.html), information about the magnitude of the variance of the transformed data (by aligning the size of the data) is lost, but this may improve prediction accuracy when used as input for machine learning."
      ]
    },
    {
      "cell_type": "markdown",
      "metadata": {
        "id": "n0a8groR1EgQ"
      },
      "source": [
        "<!-- JPN -->\n",
        "### ※2 実際の `PCA.fit()` で行われている処理\n",
        "\n",
        "　実際には、`PCA.fit()` では分散共分散行列の固有値・固有ベクトルを求める処理の代わりに、元の行列の特異値分解の結果から分散共分散行列の固有値・固有ベクトルを求めている。 詳細は[実装](https://github.com/scikit-learn/scikit-learn/blob/master/sklearn/decomposition/_pca.py)などを参照。"
      ]
    },
    {
      "cell_type": "markdown",
      "metadata": {
        "id": "eTlvcblLSwKc"
      },
      "source": [
        "<!-- ENG -->\n",
        "### S2 Actual processing performed in `PCA.fit()`\n",
        "\n",
        "　In fact, `PCA.fit()` finds the eigenvalues ​​and eigenvectors of the variance-covariance matrix from the results of the singular value decomposition of the original matrix, instead of finding the eigenvalues ​​and eigenvectors of the variance-covariance matrix. For more details, see [the actual code](https://github.com/scikit-learn/scikit-learn/blob/master/sklearn/decomposition/_pca.py)."
      ]
    }
  ],
  "metadata": {
    "colab": {
      "collapsed_sections": [],
      "provenance": [],
      "toc_visible": true,
      "include_colab_link": true
    },
    "kernelspec": {
      "display_name": "Python 3.9.12 ('base')",
      "language": "python",
      "name": "python3"
    },
    "language_info": {
      "codemirror_mode": {
        "name": "ipython",
        "version": 3
      },
      "file_extension": ".py",
      "mimetype": "text/x-python",
      "name": "python",
      "nbconvert_exporter": "python",
      "pygments_lexer": "ipython3",
      "version": "3.9.12"
    },
    "vscode": {
      "interpreter": {
        "hash": "d4d1e4263499bec80672ea0156c357c1ee493ec2b1c70f0acce89fc37c4a6abe"
      }
    }
  },
  "nbformat": 4,
  "nbformat_minor": 0
}